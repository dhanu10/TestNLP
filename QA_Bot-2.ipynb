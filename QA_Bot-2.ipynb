{
  "cells": [
    {
      "cell_type": "code",
      "execution_count": 42,
      "metadata": {
        "colab": {
          "base_uri": "https://localhost:8080/"
        },
        "id": "ebURAwfpp5oW",
        "outputId": "09757f1c-9fac-4e18-ab7a-8faad4703a16"
      },
      "outputs": [
        {
          "output_type": "stream",
          "name": "stdout",
          "text": [
            "Looking in indexes: https://pypi.org/simple, https://us-python.pkg.dev/colab-wheels/public/simple/\n",
            "Requirement already satisfied: pyTelegramBotAPI in /usr/local/lib/python3.7/dist-packages (4.6.0)\n",
            "Requirement already satisfied: requests in /usr/local/lib/python3.7/dist-packages (from pyTelegramBotAPI) (2.23.0)\n",
            "Requirement already satisfied: certifi>=2017.4.17 in /usr/local/lib/python3.7/dist-packages (from requests->pyTelegramBotAPI) (2022.6.15)\n",
            "Requirement already satisfied: urllib3!=1.25.0,!=1.25.1,<1.26,>=1.21.1 in /usr/local/lib/python3.7/dist-packages (from requests->pyTelegramBotAPI) (1.24.3)\n",
            "Requirement already satisfied: chardet<4,>=3.0.2 in /usr/local/lib/python3.7/dist-packages (from requests->pyTelegramBotAPI) (3.0.4)\n",
            "Requirement already satisfied: idna<3,>=2.5 in /usr/local/lib/python3.7/dist-packages (from requests->pyTelegramBotAPI) (2.10)\n",
            "Looking in indexes: https://pypi.org/simple, https://us-python.pkg.dev/colab-wheels/public/simple/\n",
            "Requirement already satisfied: Wikipedia in /usr/local/lib/python3.7/dist-packages (1.4.0)\n",
            "Requirement already satisfied: requests<3.0.0,>=2.0.0 in /usr/local/lib/python3.7/dist-packages (from Wikipedia) (2.23.0)\n",
            "Requirement already satisfied: beautifulsoup4 in /usr/local/lib/python3.7/dist-packages (from Wikipedia) (4.6.3)\n",
            "Requirement already satisfied: chardet<4,>=3.0.2 in /usr/local/lib/python3.7/dist-packages (from requests<3.0.0,>=2.0.0->Wikipedia) (3.0.4)\n",
            "Requirement already satisfied: certifi>=2017.4.17 in /usr/local/lib/python3.7/dist-packages (from requests<3.0.0,>=2.0.0->Wikipedia) (2022.6.15)\n",
            "Requirement already satisfied: idna<3,>=2.5 in /usr/local/lib/python3.7/dist-packages (from requests<3.0.0,>=2.0.0->Wikipedia) (2.10)\n",
            "Requirement already satisfied: urllib3!=1.25.0,!=1.25.1,<1.26,>=1.21.1 in /usr/local/lib/python3.7/dist-packages (from requests<3.0.0,>=2.0.0->Wikipedia) (1.24.3)\n",
            "Looking in indexes: https://pypi.org/simple, https://us-python.pkg.dev/colab-wheels/public/simple/\n",
            "Requirement already satisfied: transformers in /usr/local/lib/python3.7/dist-packages (4.20.1)\n",
            "Requirement already satisfied: importlib-metadata in /usr/local/lib/python3.7/dist-packages (from transformers) (4.12.0)\n",
            "Requirement already satisfied: numpy>=1.17 in /usr/local/lib/python3.7/dist-packages (from transformers) (1.21.6)\n",
            "Requirement already satisfied: huggingface-hub<1.0,>=0.1.0 in /usr/local/lib/python3.7/dist-packages (from transformers) (0.8.1)\n",
            "Requirement already satisfied: tqdm>=4.27 in /usr/local/lib/python3.7/dist-packages (from transformers) (4.64.0)\n",
            "Requirement already satisfied: regex!=2019.12.17 in /usr/local/lib/python3.7/dist-packages (from transformers) (2022.6.2)\n",
            "Requirement already satisfied: requests in /usr/local/lib/python3.7/dist-packages (from transformers) (2.23.0)\n",
            "Requirement already satisfied: filelock in /usr/local/lib/python3.7/dist-packages (from transformers) (3.7.1)\n",
            "Requirement already satisfied: tokenizers!=0.11.3,<0.13,>=0.11.1 in /usr/local/lib/python3.7/dist-packages (from transformers) (0.12.1)\n",
            "Requirement already satisfied: packaging>=20.0 in /usr/local/lib/python3.7/dist-packages (from transformers) (21.3)\n",
            "Requirement already satisfied: pyyaml>=5.1 in /usr/local/lib/python3.7/dist-packages (from transformers) (6.0)\n",
            "Requirement already satisfied: typing-extensions>=3.7.4.3 in /usr/local/lib/python3.7/dist-packages (from huggingface-hub<1.0,>=0.1.0->transformers) (4.1.1)\n",
            "Requirement already satisfied: pyparsing!=3.0.5,>=2.0.2 in /usr/local/lib/python3.7/dist-packages (from packaging>=20.0->transformers) (3.0.9)\n",
            "Requirement already satisfied: zipp>=0.5 in /usr/local/lib/python3.7/dist-packages (from importlib-metadata->transformers) (3.8.1)\n",
            "Requirement already satisfied: idna<3,>=2.5 in /usr/local/lib/python3.7/dist-packages (from requests->transformers) (2.10)\n",
            "Requirement already satisfied: chardet<4,>=3.0.2 in /usr/local/lib/python3.7/dist-packages (from requests->transformers) (3.0.4)\n",
            "Requirement already satisfied: certifi>=2017.4.17 in /usr/local/lib/python3.7/dist-packages (from requests->transformers) (2022.6.15)\n",
            "Requirement already satisfied: urllib3!=1.25.0,!=1.25.1,<1.26,>=1.21.1 in /usr/local/lib/python3.7/dist-packages (from requests->transformers) (1.24.3)\n"
          ]
        }
      ],
      "source": [
        "!pip install pyTelegramBotAPI\n",
        "!pip install Wikipedia\n",
        "!pip install transformers"
      ]
    },
    {
      "cell_type": "code",
      "execution_count": 43,
      "metadata": {
        "id": "2NayRfdCrL9u"
      },
      "outputs": [],
      "source": [
        "import telebot\n",
        "import wikipedia\n",
        "from transformers import pipeline"
      ]
    },
    {
      "cell_type": "code",
      "execution_count": 44,
      "metadata": {
        "id": "WOT0XbjzqGQV"
      },
      "outputs": [],
      "source": [
        "bot_token='5581642050:AAGfkNzf5GmlhOi_Lb27Wu1D8PlW1ezXq4s'"
      ]
    },
    {
      "cell_type": "code",
      "execution_count": 45,
      "metadata": {
        "id": "WSiKF6qOrrQG"
      },
      "outputs": [],
      "source": [
        "bot = telebot.TeleBot(bot_token, parse_mode=None)\n",
        "qa_pipeline = pipeline(\"question-answering\", model='ktrapeznikov/biobert_v1.1_pubmed_squad_v2')"
      ]
    },
    {
      "cell_type": "code",
      "execution_count": 46,
      "metadata": {
        "id": "P4mV5uzWsChX"
      },
      "outputs": [],
      "source": [
        "import re\n",
        "\n",
        "message_status = 0\n",
        "wiki_result = ''\n",
        "\n",
        "@bot.message_handler(commands=['hi'])\n",
        "def send_welcome(message):\n",
        "\tbot.reply_to(message, \"Hi\")\n",
        "\n",
        "@bot.message_handler(func=lambda message: True)\n",
        "def handle_text_doc(message):\n",
        "\t\tglobal message_status\n",
        "\t\tglobal wiki_result\n",
        "\t\t\n",
        "\t\tif(re.findall(r\"^hi|Hi|Hello|hello\",message.text)):\n",
        "\t\t\tmessage_status = 1\n",
        "\t\t\tbot.reply_to(message, \"Hi there. Tell me the subject you want to search.\")\n",
        "\n",
        "\t\t\t\n",
        "\t\telif(message_status == 1):\n",
        "\t\t\tmessage_status = 2\n",
        "\t\t\twiki_summary = message.text\n",
        "\t\t\tbot.reply_to(message, \"Let me find more about this topic\")\n",
        "\t\t\twiki_result = wikipedia.summary(wiki_summary, sentences = 10)\n",
        "\t\t\tbot.reply_to(message, wiki_result)\n",
        "\t\t\tbot.reply_to(message,\"You want to ask me any question on this topic.\")\n",
        "\t \n",
        "\t\telif(message_status == 2):\n",
        "\t\t\tqa_result = qa_pipeline(question=message.text, context=wiki_result)\n",
        "\t\t\tbot.reply_to(message, list(qa_result.values())[3])\n",
        "\n",
        "#@bot.message_handler(regexp=\"hi|Hi|Hello\")\n",
        "#def handle_text_doc(message):\n",
        "#\tchat_status = 1\n",
        "#\tbot.reply_to(message, \"Hi there. Tell me the subject you want to search.\")\n",
        "#\tchat_status = 1\n",
        "\n",
        "\n",
        "#@bot.message_handler(func=lambda message: True if(chat_status == 1) else False)\n",
        "#def handle_text_doc1(message):\n",
        "#\tbot.reply_to(message, \"Please ask me anything about the topic\")\n",
        "\t\n"
      ]
    },
    {
      "cell_type": "code",
      "execution_count": null,
      "metadata": {
        "id": "xt7IwSZGsSJx"
      },
      "outputs": [],
      "source": [
        "bot.infinity_polling()"
      ]
    }
  ],
  "metadata": {
    "colab": {
      "collapsed_sections": [],
      "name": "QA_Bot.ipynb",
      "provenance": []
    },
    "kernelspec": {
      "display_name": "Python 3",
      "name": "python3"
    },
    "language_info": {
      "name": "python"
    }
  },
  "nbformat": 4,
  "nbformat_minor": 0
}